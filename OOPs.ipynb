{
  "nbformat": 4,
  "nbformat_minor": 0,
  "metadata": {
    "colab": {
      "provenance": []
    },
    "kernelspec": {
      "name": "python3",
      "display_name": "Python 3"
    },
    "language_info": {
      "name": "python"
    }
  },
  "cells": [
    {
      "cell_type": "markdown",
      "source": [
        "#OOPs assignment"
      ],
      "metadata": {
        "id": "gRJPHM1MvICv"
      }
    },
    {
      "cell_type": "markdown",
      "source": [
        "1. What is Object-Oriented Programming (OOP)?\n",
        " - Object-Oriented Programming (OOP) is a programming paradigm that uses objects and classes to structure software into reusable pieces of code. This approach allows for better organization, flexibility, and management of complex programs by encapsulating related data and behaviors within objects.\n"
      ],
      "metadata": {
        "id": "D8LfEmOMvjQS"
      }
    },
    {
      "cell_type": "markdown",
      "source": [
        "2. What is a class in OOP?\n",
        " - A class is a blueprint or template for creating objects. It defines attributes (data) and methods (functions) that the objects created from the class will have."
      ],
      "metadata": {
        "id": "YJqtpc21vkI2"
      }
    },
    {
      "cell_type": "markdown",
      "source": [
        "3. What is an object in OOP?\n",
        " - An object is an instance of a class. It contains data and methods defined by the class and represents a specific entity in the program.\n"
      ],
      "metadata": {
        "id": "WeYSXAqSvqH4"
      }
    },
    {
      "cell_type": "markdown",
      "source": [
        "4. What is the difference between abstraction and encapsulation?\n",
        " - **Abstraction** is the process of hiding complex implementation details and showing only the essential features of an object.\n",
        " ***Encapsulation** is the technique of bundling data and methods that operate on that data within a single unit (class) and restricting access to some components.\n"
      ],
      "metadata": {
        "id": "WXnH7Eitvsio"
      }
    },
    {
      "cell_type": "markdown",
      "source": [
        "5. What are dunder methods in Python?\n",
        " - Dunder methods, also known as magic methods, are special methods in Python that start and end with double underscores (e.g., __init__, __str__). They provide a way to define how objects of a class should behave in specific situations.\n"
      ],
      "metadata": {
        "id": "3302TQOOwPD4"
      }
    },
    {
      "cell_type": "markdown",
      "source": [
        "6. Explain the concept of inheritance in OOP.\n",
        " - Inheritance allows a new class (subclass) to inherit attributes and methods from an existing class (superclass). This promotes code reusability and establishes a hierarchical relationship between classes.\n"
      ],
      "metadata": {
        "id": "_AeVtYd3wUfb"
      }
    },
    {
      "cell_type": "markdown",
      "source": [
        "7. What is polymorphism in OOP?\n",
        " - Polymorphism allows objects to be treated as instances of their parent class rather than their actual class. It enables a single interface to represent different underlying forms (data types).\n"
      ],
      "metadata": {
        "id": "sjzglTHvwXBM"
      }
    },
    {
      "cell_type": "markdown",
      "source": [
        "8. How is encapsulation achieved in Python?\n",
        " - Encapsulation is achieved using access modifiers. In Python, we use single underscores () for protected members and double underscores (_) for private members to restrict access to class attributes and methods.\n"
      ],
      "metadata": {
        "id": "0RohFu7KwZ36"
      }
    },
    {
      "cell_type": "markdown",
      "source": [
        "9. What is a constructor in Python?\n",
        " - A constructor is a special method named __init__ that is automatically called when an object is created. It initializes the object's attributes."
      ],
      "metadata": {
        "id": "Zet8tOHmwce7"
      }
    },
    {
      "cell_type": "markdown",
      "source": [
        "10. What are class and static methods in Python?\n",
        " - Class methods are methods that operate on the class itself rather than on instances of the class. They are defined using the @classmethod decorator.\n",
        " Static methods are methods that do not operate on either the class or its instances. They are defined using the @staticmethod decorator.\n",
        "\n"
      ],
      "metadata": {
        "id": "KQgLY1fTwfvO"
      }
    },
    {
      "cell_type": "markdown",
      "source": [
        "11. What is method overloading in Python?\n",
        " - Method overloading allows multiple methods in the same class to have the same name but different parameters. Python does not support method overloading directly but can be achieved using default parameters or variable-length arguments.\n"
      ],
      "metadata": {
        "id": "vXlSwmpiwnbI"
      }
    },
    {
      "cell_type": "markdown",
      "source": [
        "12. What is method overriding in OOP?\n",
        " - Method overriding allows a subclass to provide a specific implementation of a method that is already defined in its superclass.\n"
      ],
      "metadata": {
        "id": "D21xRHUmwqZZ"
      }
    },
    {
      "cell_type": "markdown",
      "source": [
        "13. What is a property decorator in Python?\n",
        " - A property decorator (@property) is used to define getter, setter, and deleter methods for class attributes, allowing them to be accessed like attributes while providing additional functionality.\n"
      ],
      "metadata": {
        "id": "XzHpHXROwwel"
      }
    },
    {
      "cell_type": "markdown",
      "source": [
        "14. Why is polymorphism important in OOP?\n",
        " - Polymorphism is important because it allows for flexibility and reusability in code. It enables different classes to be treated as instances of the same parent class, allowing for consistent and interchangeable use.\n"
      ],
      "metadata": {
        "id": "-04EA6LvwyvN"
      }
    },
    {
      "cell_type": "markdown",
      "source": [
        "15. What is an abstract class in Python?\n",
        " - An abstract class is a class that cannot be instantiated and is meant to be subclassed. It can contain abstract methods (methods without implementation) that must be implemented by subclasses. Abstract classes are defined using the ABC module and the @abstractmethod decorator.\n"
      ],
      "metadata": {
        "id": "7kujz8jJw1cO"
      }
    },
    {
      "cell_type": "markdown",
      "source": [
        "16. What are the advantages of OOP?\n",
        " - Modularity: Code is organized into classes and objects.\n",
        "\n",
        "     Reusability: Classes can be reused in different programs.\n",
        "\n",
        "     Scalability: Easier to manage and extend code.\n",
        "\n",
        "     Maintainability: Code is easier to maintain and update.\n",
        "\n",
        "     Abstraction: Hides complex implementation details."
      ],
      "metadata": {
        "id": "BsVoTCLRw5HF"
      }
    },
    {
      "cell_type": "markdown",
      "source": [
        "17. What is the difference between a class variable and an instance variable?\n",
        " - Class variables are shared across all instances of a class. They are defined within the class but outside any methods.\n",
        " Instance variables are unique to each instance of a class. They are defined within methods, typically the constructor (__init__).\n"
      ],
      "metadata": {
        "id": "fZjtQotvxBRm"
      }
    },
    {
      "cell_type": "markdown",
      "source": [
        "18. What is multiple inheritance in Python?\n",
        " - Multiple inheritance is a feature that allows a class to inherit from more than one superclass. This enables the class to inherit attributes and methods from multiple sources.\n"
      ],
      "metadata": {
        "id": "9jgBsLxHxCdZ"
      }
    },
    {
      "cell_type": "markdown",
      "source": [
        "19. Explain the purpose of __str__ and __repr__ methods in Python.\n",
        " - __str__: Returns a string representation of the object meant to be readable by end-users.\n",
        "__repr__: Returns a string representation of the object meant to be unambiguous and useful for developers (usually used for debugging)."
      ],
      "metadata": {
        "id": "OHiGO7DRxKgs"
      }
    },
    {
      "cell_type": "markdown",
      "source": [
        "20. What is the significance of the super() function in Python?\n",
        " - The super() function is used to call methods from a superclass in a subclass. It allows for accessing inherited methods and attributes, enabling code reuse and the proper initialization of the base class.\n"
      ],
      "metadata": {
        "id": "4U0-sU9PxQ4y"
      }
    },
    {
      "cell_type": "markdown",
      "source": [
        "21. What is the significance of the __del__ method in Python?\n",
        " - The __del__ method, also known as the destructor, is called when an object is about to be destroyed. It is used to release resources or perform cleanup tasks. However, its use is generally discouraged, as Python's garbage collector manages memory automatically.\n"
      ],
      "metadata": {
        "id": "ILJ02n0fxTXV"
      }
    },
    {
      "cell_type": "markdown",
      "source": [
        "22. What is the difference between @staticmethod and @classmethod in Python?\n",
        " - @staticmethod: Defines a method that does not operate on the class or its instances. It does not have access to the class (cls) or instance (self) references.\n",
        " @classmethod: Defines a method that operates on the class itself rather than on instances of the class. It has access to the class reference (cls) and can modify class-level attributes.\n"
      ],
      "metadata": {
        "id": "0VLGLt-3xVhw"
      }
    },
    {
      "cell_type": "markdown",
      "source": [
        "23. How does polymorphism work in Python with inheritance?\n",
        " - Polymorphism in Python allows objects of different classes to be treated as objects of a common superclass. Methods defined in the superclass can be overridden in subclasses, enabling different implementations while maintaining a consistent interface."
      ],
      "metadata": {
        "id": "BKle2PCPxa7j"
      }
    },
    {
      "cell_type": "markdown",
      "source": [
        "24. What is method chaining in Python OOP?\n",
        " - Method chaining is a technique that allows multiple methods to be called on an object in a single statement by returning self from each method. This can lead to more readable and concise code."
      ],
      "metadata": {
        "id": "LsHWIVsoxdXY"
      }
    },
    {
      "cell_type": "markdown",
      "source": [
        "25. What is the purpose of the __call__ method in Python?\n",
        " - The __call__ method allows an instance of a class to be called as if it were a function. By defining __call__, you can make the object behave like a callable, providing custom behavior when invoked."
      ],
      "metadata": {
        "id": "_78wludoxec7"
      }
    },
    {
      "cell_type": "markdown",
      "source": [
        "#Practical questions"
      ],
      "metadata": {
        "id": "61BpP1LO2aLA"
      }
    },
    {
      "cell_type": "markdown",
      "source": [
        "1. Create a parent class Animal with a method speak() that prints a generic message. Create a child class Dog\n",
        "that overrides the speak() method to print \"Bark!\"."
      ],
      "metadata": {
        "id": "98bbfowo2fJK"
      }
    },
    {
      "cell_type": "code",
      "source": [
        "'''\n",
        "class Animal:\n",
        "    def speak(self):\n",
        "        print(\"This is an animal sound.\")\n",
        "\n",
        "class Dog(Animal):\n",
        "    def speak(self):\n",
        "        print(\"Bark!\")\n",
        "\n",
        "# Test the classes\n",
        "animal = Animal()\n",
        "dog = Dog()\n",
        "\n",
        "animal.speak()  # Output: This is an animal sound.\n",
        "dog.speak()     # Output: Bark!\n",
        "'''"
      ],
      "metadata": {
        "id": "X8e_AnK82gXh"
      },
      "execution_count": null,
      "outputs": []
    },
    {
      "cell_type": "markdown",
      "source": [
        "2. Write a program to create an abstract class Shape with a method area(). Derive classes Circle and Rectangle\n",
        "from it and implement the area() method in both."
      ],
      "metadata": {
        "id": "CZQedlK82gwl"
      }
    },
    {
      "cell_type": "code",
      "source": [
        "'''\n",
        "from abc import ABC, abstractmethod\n",
        "import math\n",
        "\n",
        "class Shape(ABC):\n",
        "    @abstractmethod\n",
        "    def area(self):\n",
        "        pass\n",
        "\n",
        "class Circle(Shape):\n",
        "    def __init__(self, radius):\n",
        "        self.radius = radius\n",
        "\n",
        "    def area(self):\n",
        "        return math.pi * self.radius ** 2\n",
        "\n",
        "class Rectangle(Shape):\n",
        "    def __init__(self, width, height):\n",
        "        self.width = width\n",
        "        self.height = height\n",
        "\n",
        "    def area(self):\n",
        "        return self.width * self.height\n",
        "\n",
        "# Test the classes\n",
        "circle = Circle(5)\n",
        "rectangle = Rectangle(4, 6)\n",
        "\n",
        "print(circle.area())      # Output: 78.53981633974483\n",
        "print(rectangle.area())   # Output: 24\n",
        "'''"
      ],
      "metadata": {
        "id": "HQ6pQPRu2l9v"
      },
      "execution_count": null,
      "outputs": []
    },
    {
      "cell_type": "markdown",
      "source": [
        "3. Implement a multi-level inheritance scenario where a class Vehicle has an attribute type. Derive a class Car\n",
        "and further derive a class ElectricCar that adds a battery attribute."
      ],
      "metadata": {
        "id": "rmObBNJI2mZE"
      }
    },
    {
      "cell_type": "code",
      "source": [
        "'''\n",
        "class Vehicle:\n",
        "    def __init__(self, type):\n",
        "        self.type = type\n",
        "\n",
        "class Car(Vehicle):\n",
        "    def __init__(self, type, model):\n",
        "        super().__init__(type)\n",
        "        self.model = model\n",
        "\n",
        "class ElectricCar(Car):\n",
        "    def __init__(self, type, model, battery):\n",
        "        super().__init__(type, model)\n",
        "        self.battery = battery\n",
        "\n",
        "# Test the classes\n",
        "electric_car = ElectricCar(\"Car\", \"Tesla Model 3\", \"75 kWh\")\n",
        "\n",
        "print(electric_car.type)   # Output: Car\n",
        "print(electric_car.model)  # Output: Tesla Model 3\n",
        "print(electric_car.battery) # Output: 75 kWh\n",
        "'''"
      ],
      "metadata": {
        "id": "CK5X7bjk24Dz"
      },
      "execution_count": null,
      "outputs": []
    },
    {
      "cell_type": "markdown",
      "source": [
        "4. Implement a multi-level inheritance scenario where a class Vehicle has an attribute type. Derive a class Car\n",
        "and further derive a class ElectricCar that adds a battery attribute."
      ],
      "metadata": {
        "id": "HBwJodrz24dW"
      }
    },
    {
      "cell_type": "code",
      "source": [
        "'''\n",
        "class Vehicle:\n",
        "    def __init__(self, type):\n",
        "        self.type = type\n",
        "\n",
        "class Car(Vehicle):\n",
        "    def __init__(self, type, model):\n",
        "        super().__init__(type)\n",
        "        self.model = model\n",
        "\n",
        "class ElectricCar(Car):\n",
        "    def __init__(self, type, model, battery):\n",
        "        super().__init__(type, model)\n",
        "        self.battery = battery\n",
        "\n",
        "# Test the classes\n",
        "electric_car = ElectricCar(\"Car\", \"Tesla Model 3\", \"75 kWh\")\n",
        "\n",
        "print(electric_car.type)   # Output: Car\n",
        "print(electric_car.model)  # Output: Tesla Model 3\n",
        "print(electric_car.battery) # Output: 75 kWh\n",
        "'''"
      ],
      "metadata": {
        "id": "tDLrGXiY275y"
      },
      "execution_count": null,
      "outputs": []
    },
    {
      "cell_type": "markdown",
      "source": [
        "5. Write a program to demonstrate encapsulation by creating a class BankAccount with private attributes\n",
        "balance and methods to deposit, withdraw, and check balance."
      ],
      "metadata": {
        "id": "Y3LR7Gxw28Uc"
      }
    },
    {
      "cell_type": "code",
      "source": [
        "'''\n",
        "class BankAccount:\n",
        "    def __init__(self):\n",
        "        self.__balance = 0\n",
        "\n",
        "    def deposit(self, amount):\n",
        "        self.__balance += amount\n",
        "\n",
        "    def withdraw(self, amount):\n",
        "        if amount <= self.__balance:\n",
        "            self.__balance -= amount\n",
        "        else:\n",
        "            print(\"Insufficient funds\")\n",
        "\n",
        "    def check_balance(self):\n",
        "        return self.__balance\n",
        "\n",
        "# Test the class\n",
        "account = BankAccount()\n",
        "account.deposit(1000)\n",
        "account.withdraw(500)\n",
        "print(account.check_balance())  # Output: 500\n",
        "account.withdraw(600)           # Output: Insufficient funds\n",
        "'''"
      ],
      "metadata": {
        "id": "uDmSUriA2_Dc"
      },
      "execution_count": null,
      "outputs": []
    },
    {
      "cell_type": "markdown",
      "source": [
        "6. Demonstrate runtime polymorphism using a method play() in a base class Instrument. Derive classes Guitar\n",
        "and Piano that implement their own version of play()."
      ],
      "metadata": {
        "id": "d0EKFtNQ2_kp"
      }
    },
    {
      "cell_type": "code",
      "source": [
        "'''\n",
        "class Instrument:\n",
        "    def play(self):\n",
        "        raise NotImplementedError(\"Subclass must implement this method\")\n",
        "\n",
        "class Guitar(Instrument):\n",
        "    def play(self):\n",
        "        print(\"Playing the guitar\")\n",
        "\n",
        "class Piano(Instrument):\n",
        "    def play(self):\n",
        "        print(\"Playing the piano\")\n",
        "\n",
        "# Test the classes\n",
        "instruments = [Guitar(), Piano()]\n",
        "\n",
        "for instrument in instruments:\n",
        "    instrument.play()\n",
        "'''"
      ],
      "metadata": {
        "id": "BXFXsm_b3Cfz"
      },
      "execution_count": null,
      "outputs": []
    },
    {
      "cell_type": "markdown",
      "source": [
        "7. Create a class MathOperations with a class method add_numbers() to add two numbers and a static\n",
        "method subtract_numbers() to subtract two numbers."
      ],
      "metadata": {
        "id": "iFwcgy5Y3C5_"
      }
    },
    {
      "cell_type": "code",
      "source": [
        "'''\n",
        "class MathOperations:\n",
        "    @classmethod\n",
        "    def add_numbers(cls, a, b):\n",
        "        return a + b\n",
        "\n",
        "    @staticmethod\n",
        "    def subtract_numbers(a, b):\n",
        "        return a - b\n",
        "\n",
        "# Test the methods\n",
        "print(MathOperations.add_numbers(5, 3))  # Output: 8\n",
        "print(MathOperations.subtract_numbers(5, 3))  # Output: 2\n",
        "'''"
      ],
      "metadata": {
        "id": "yN4_onuE3Fn4"
      },
      "execution_count": null,
      "outputs": []
    },
    {
      "cell_type": "markdown",
      "source": [
        "8. Implement a class Person with a class method to count the total number of persons created"
      ],
      "metadata": {
        "id": "6eXlvs_g3GCF"
      }
    },
    {
      "cell_type": "code",
      "source": [
        "'''\n",
        "class Person:\n",
        "    count = 0\n",
        "\n",
        "    def __init__(self, name):\n",
        "        self.name = name\n",
        "        Person.count += 1\n",
        "\n",
        "    @classmethod\n",
        "    def get_person_count(cls):\n",
        "        return cls.count\n",
        "\n",
        "# Test the class\n",
        "person1 = Person(\"Alice\")\n",
        "person2 = Person(\"Bob\")\n",
        "\n",
        "print(Person.get_person_count())  # Output: 2\n",
        "'''"
      ],
      "metadata": {
        "id": "gKlu58mC3I2E"
      },
      "execution_count": null,
      "outputs": []
    },
    {
      "cell_type": "markdown",
      "source": [
        "9. Write a class Fraction with attributes numerator and denominator. Override the str method to display the\n",
        "fraction as \"numerator/denominator\"."
      ],
      "metadata": {
        "id": "ld4nskfc3JbF"
      }
    },
    {
      "cell_type": "code",
      "source": [
        "'''\n",
        "class Fraction:\n",
        "    def __init__(self, numerator, denominator):\n",
        "        self.numerator = numerator\n",
        "        self.denominator = denominator\n",
        "\n",
        "    def __str__(self):\n",
        "        return f\"{self.numerator}/{self.denominator}\"\n",
        "\n",
        "# Test the class\n",
        "fraction = Fraction(3, 4)\n",
        "print(fraction)  # Output: 3/4\n",
        "'''"
      ],
      "metadata": {
        "id": "nNcSVGwt3ML6"
      },
      "execution_count": null,
      "outputs": []
    },
    {
      "cell_type": "markdown",
      "source": [
        "10. Demonstrate operator overloading by creating a class Vector and overriding the add method to add two\n",
        "vectors."
      ],
      "metadata": {
        "id": "p3GEcBfQ3Moe"
      }
    },
    {
      "cell_type": "code",
      "source": [
        "'''\n",
        "class Vector:\n",
        "    def __init__(self, x, y):\n",
        "        self.x = x\n",
        "        self.y = y\n",
        "\n",
        "    def __add__(self, other):\n",
        "        return Vector(self.x + other.x, self.y + other.y)\n",
        "\n",
        "    def __str__(self):\n",
        "        return f\"Vector({self.x}, {self.y})\"\n",
        "\n",
        "# Test the class\n",
        "vector1 = Vector(2, 3)\n",
        "vector2 = Vector(4, 5)\n",
        "vector3 = vector1 + vector2\n",
        "\n",
        "print(vector3)  # Output: Vector(6, 8)\n",
        "'''"
      ],
      "metadata": {
        "id": "4U9OJjKb3P2r"
      },
      "execution_count": null,
      "outputs": []
    },
    {
      "cell_type": "markdown",
      "source": [
        "11. Create a class Person with attributes name and age. Add a method greet() that prints \"Hello, my name is\n",
        "{name} and I am {age} years old."
      ],
      "metadata": {
        "id": "y1MPINWP3QPg"
      }
    },
    {
      "cell_type": "code",
      "source": [
        "'''\n",
        "class Person:\n",
        "    def __init__(self, name, age):\n",
        "        self.name = name\n",
        "        self.age = age\n",
        "\n",
        "    def greet(self):\n",
        "        print(f\"Hello, my name is {self.name} and I am {self.age} years old.\")\n",
        "\n",
        "# Test the class\n",
        "person = Person(\"John\", 30)\n",
        "person.greet()  # Output: Hello, my name is John and I am 30 years old.\n",
        "'''"
      ],
      "metadata": {
        "id": "y9QxORK-3WC8"
      },
      "execution_count": null,
      "outputs": []
    },
    {
      "cell_type": "markdown",
      "source": [
        "12. Implement a class Student with attributes name and grades. Create a method average_grade() to compute\n",
        "the average of the grades."
      ],
      "metadata": {
        "id": "_9ZVRkUS3WXP"
      }
    },
    {
      "cell_type": "code",
      "source": [
        "'''\n",
        "class Student:\n",
        "    def __init__(self, name, grades):\n",
        "        self.name = name\n",
        "        self.grades = grades\n",
        "\n",
        "    def average_grade(self):\n",
        "        return sum(self.grades) / len(self.grades)\n",
        "\n",
        "# Test the class\n",
        "student = Student(\"Alice\", [85, 90, 78, 92])\n",
        "print(student.average_grade())  # Output: 86.25\n",
        "'''"
      ],
      "metadata": {
        "id": "s_wF-c973ZFu"
      },
      "execution_count": null,
      "outputs": []
    },
    {
      "cell_type": "markdown",
      "source": [
        "13. Create a class Rectangle with methods set_dimensions() to set the dimensions and area() to calculate the\n",
        "area."
      ],
      "metadata": {
        "id": "eG_7Z5Or3ZgQ"
      }
    },
    {
      "cell_type": "code",
      "source": [
        "'''\n",
        "class Rectangle:\n",
        "    def __init__(self):\n",
        "        self.width = 0\n",
        "        self.height = 0\n",
        "\n",
        "    def set_dimensions(self, width, height):\n",
        "        self.width = width\n",
        "        self.height = height\n",
        "\n",
        "    def area(self):\n",
        "        return self.width * self.height\n",
        "\n",
        "# Test the class\n",
        "rectangle = Rectangle()\n",
        "rectangle.set_dimensions(4, 5)\n",
        "print(rectangle.area())  # Output: 20\n",
        "'''"
      ],
      "metadata": {
        "id": "5RYbncT63cO-"
      },
      "execution_count": null,
      "outputs": []
    },
    {
      "cell_type": "markdown",
      "source": [
        "14. Create a class Employee with a method calculate_salary() that computes the salary based on hours worked\n",
        "and hourly rate. Create a derived class Manager that adds a bonus to the salary."
      ],
      "metadata": {
        "id": "GOMaiRNF3cxn"
      }
    },
    {
      "cell_type": "code",
      "source": [
        "'''\n",
        "class Employee:\n",
        "    def __init__(self, hours_worked, hourly_rate):\n",
        "        self.hours_worked = hours_worked\n",
        "        self.hourly_rate = hourly_rate\n",
        "\n",
        "    def calculate_salary(self):\n",
        "        return self.hours_worked * self.hourly_rate\n",
        "\n",
        "class Manager(Employee):\n",
        "    def __init__(self, hours_worked, hourly_rate, bonus):\n",
        "        super().__init__(hours_worked, hourly_rate)\n",
        "        self.bonus = bonus\n",
        "\n",
        "    def calculate_salary(self):\n",
        "        return super().calculate_salary() + self.bonus\n",
        "\n",
        "# Test the classes\n",
        "employee = Employee(160, 25)\n",
        "manager = Manager(160, 25, 1000)\n",
        "\n",
        "print(employee.calculate_salary())  # Output: 4000\n",
        "print(manager.calculate_salary())   # Output: 5000\n",
        "'''"
      ],
      "metadata": {
        "id": "qMKRD96H3f_4"
      },
      "execution_count": null,
      "outputs": []
    },
    {
      "cell_type": "markdown",
      "source": [
        "15. Create a class Product with attributes name, price, and quantity. Implement a method total_price() that\n",
        "calculates the total price of the product.\n",
        "\n",
        "\n"
      ],
      "metadata": {
        "id": "AQOJkcVr3gXG"
      }
    },
    {
      "cell_type": "code",
      "source": [
        "'''\n",
        "class Product:\n",
        "    def __init__(self, name, price, quantity):\n",
        "        self.name = name\n",
        "        self.price = price\n",
        "        self.quantity = quantity\n",
        "\n",
        "    def total_price(self):\n",
        "        return self.price * self.quantity\n",
        "\n",
        "# Test the class\n",
        "product = Product(\"Laptop\", 1000, 3)\n",
        "print(product.total_price())  # Output: 3000\n",
        "'''"
      ],
      "metadata": {
        "id": "xCd4_KjM3jd0"
      },
      "execution_count": null,
      "outputs": []
    },
    {
      "cell_type": "markdown",
      "source": [
        "16. Create a class Animal with an abstract method sound(). Create two derived classes Cow and Sheep that\n",
        "implement the sound() method."
      ],
      "metadata": {
        "id": "T8UHGbco3j4o"
      }
    },
    {
      "cell_type": "code",
      "source": [
        "'''\n",
        "from abc import ABC, abstractmethod\n",
        "\n",
        "class Animal(ABC):\n",
        "    @abstractmethod\n",
        "    def sound(self):\n",
        "        pass\n",
        "\n",
        "class Cow(Animal):\n",
        "    def sound(self):\n",
        "        return \"Moo!\"\n",
        "\n",
        "class Sheep(Animal):\n",
        "    def sound(self):\n",
        "        return \"Baa!\"\n",
        "\n",
        "# Test the classes\n",
        "cow = Cow()\n",
        "sheep = Sheep()\n",
        "\n",
        "print(cow.sound())   # Output: Moo!\n",
        "print(sheep.sound()) # Output: Baa!\n",
        "'''"
      ],
      "metadata": {
        "id": "hlE-Pkox3mC4"
      },
      "execution_count": null,
      "outputs": []
    },
    {
      "cell_type": "markdown",
      "source": [
        "17. Create a class Book with attributes title, author, and year_published. Add a method get_book_info() that\n",
        "returns a formatted string with the book's details."
      ],
      "metadata": {
        "id": "Uw21oNLe3mWn"
      }
    },
    {
      "cell_type": "code",
      "source": [
        "'''\n",
        "class Book:\n",
        "    def __init__(self, title, author, year_published):\n",
        "        self.title = title\n",
        "        self.author = author\n",
        "        self.year_published = year_published\n",
        "\n",
        "    def get_book_info(self):\n",
        "        return f\"'{self.title}' by {self.author}, published in {self.year_published}\"\n",
        "\n",
        "# Test the class\n",
        "book = Book(\"To Kill a Mockingbird\", \"Harper Lee\", 1960)\n",
        "print(book.get_book_info())  # Output: 'To Kill a Mockingbird' by Harper Lee, published in 1960\n",
        "'''"
      ],
      "metadata": {
        "id": "FbUlozDd4kh8"
      },
      "execution_count": null,
      "outputs": []
    },
    {
      "cell_type": "markdown",
      "source": [
        "18. Create a class House with attributes address and price. Create a derived class Mansion that adds an\n",
        "attribute number_of_rooms."
      ],
      "metadata": {
        "id": "3IA6Ug3t4k-F"
      }
    },
    {
      "cell_type": "code",
      "source": [
        "'''\n",
        "class House:\n",
        "    def __init__(self, address, price):\n",
        "        self.address = address\n",
        "        self.price = price\n",
        "\n",
        "class Mansion(House):\n",
        "    def __init__(self, address, price, number_of_rooms):\n",
        "        super().__init__(address, price)\n",
        "        self.number_of_rooms = number_of_rooms\n",
        "\n",
        "# Test the classes\n",
        "mansion = Mansion(\"123 Luxury St.\", 5000000, 10)\n",
        "print(f\"Address: {mansion.address}, Price: {mansion.price}, Rooms: {mansion.number_of_rooms}\")\n",
        "# Output: Address: 123 Luxury St., Price: 5000000, Rooms: 10\n",
        "'''"
      ],
      "metadata": {
        "id": "22bVvvyp4l6I"
      },
      "execution_count": null,
      "outputs": []
    }
  ]
}